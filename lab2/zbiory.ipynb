{
 "cells": [
  {
   "cell_type": "markdown",
   "metadata": {
    "collapsed": false
   },
   "source": [
    "# Zbiory w Pythonie\n",
    "Zbiór to nieuporządkowana kolekcja unikalnych elementów. Zbiory są definiowane za pomocą nawiasów klamrowych lub konstruktora set()."
   ]
  },
  {
   "cell_type": "code",
   "execution_count": 1,
   "metadata": {
    "collapsed": false
   },
   "outputs": [],
   "source": [
    "the_set = {1, 2, 3, 4}\n",
    "empty_set = set()  # Pusty zbiór\n",
    "another_set = set([3, 4, 5, 6])"
   ]
  },
  {
   "cell_type": "code",
   "execution_count": 2,
   "metadata": {
    "collapsed": false
   },
   "outputs": [
    {
     "name": "stdout",
     "output_type": "stream",
     "text": [
      "set([1, 2, 3, 4, 3, 2,]) = {1, 2, 3, 4}\n"
     ]
    }
   ],
   "source": [
    "print(f\"{set([1, 2, 3, 4, 3, 2,]) = }\") # Przy konstrukcji zbioru powtarzające się elementy są automatycznie usuwane"
   ]
  },
  {
   "cell_type": "markdown",
   "metadata": {
    "collapsed": false
   },
   "source": [
    "## Podstawowe operacje na zbiorach"
   ]
  },
  {
   "cell_type": "code",
   "execution_count": 3,
   "metadata": {
    "collapsed": false
   },
   "outputs": [
    {
     "name": "stdout",
     "output_type": "stream",
     "text": [
      "True\n",
      "4\n"
     ]
    }
   ],
   "source": [
    "the_set.add(5)  # Dodaje element 5 do zbioru\n",
    "the_set.remove(1)  # Usuwa element 1 ze zbioru (wyrzuca KeyError, jeśli nie znaleziono elementu)\n",
    "the_set.discard(10)  # Usuwa element 10, jeśli jest obecny, brak błędu, jeśli go nie ma\n",
    "print(2 in the_set)  # True, jeśli 2 jest w zbiorze, False w przeciwnym razie\n",
    "print(len(the_set))  # Liczba elementów w zbiorze"
   ]
  },
  {
   "cell_type": "markdown",
   "metadata": {
    "collapsed": false
   },
   "source": []
  },
  {
   "cell_type": "markdown",
   "metadata": {
    "collapsed": false
   },
   "source": [
    "## Matematyczne operacje na zbiorach"
   ]
  },
  {
   "cell_type": "code",
   "execution_count": 4,
   "metadata": {
    "collapsed": false
   },
   "outputs": [
    {
     "name": "stdout",
     "output_type": "stream",
     "text": [
      "union = {1, 2, 3, 4, 5}\n",
      "intersection = {3}\n",
      "difference = {1, 2}\n",
      "symmetric_difference = {1, 2, 4, 5}\n"
     ]
    }
   ],
   "source": [
    "set1 = {1, 2, 3}\n",
    "set2 = {3, 4, 5}\n",
    "\n",
    "union = set1 | set2 # Suma zbiorów\n",
    "print(f\"{union = }\")\n",
    "\n",
    "intersection = set1 & set2 # Część wspólna\n",
    "print(f\"{intersection = }\")\n",
    "\n",
    "difference = set1 - set2  # Elementy w set1, ale nie w set2\n",
    "print(f\"{difference = }\")\n",
    "\n",
    "symmetric_difference = set1 ^ set2  # Elementy występujące w jednym ze zbiorów, ale nie w obu\n",
    "print(f\"{symmetric_difference = }\")"
   ]
  },
  {
   "cell_type": "markdown",
   "metadata": {
    "collapsed": false
   },
   "source": [
    "## Comprehension na zbiorach"
   ]
  },
  {
   "cell_type": "code",
   "execution_count": 5,
   "metadata": {
    "collapsed": false
   },
   "outputs": [
    {
     "name": "stdout",
     "output_type": "stream",
     "text": [
      "set_comprehension = {0, 1, 4, 9, 16}\n"
     ]
    }
   ],
   "source": [
    "set_comprehension = {x**2 for x in range(5)}\n",
    "print(f\"{set_comprehension = }\")"
   ]
  },
  {
   "cell_type": "markdown",
   "metadata": {
    "collapsed": false
   },
   "source": [
    "# Zadania"
   ]
  },
  {
   "cell_type": "markdown",
   "metadata": {
    "collapsed": false
   },
   "source": [
    "Zad 1. Zwrócić unikalne elementy z listy"
   ]
  },
  {
   "cell_type": "code",
   "execution_count": 1,
   "metadata": {
    "collapsed": false
   },
   "outputs": [
    {
     "name": "stdout",
     "output_type": "stream",
     "text": [
      "{1, 2, 3, 4, 5}\n"
     ]
    }
   ],
   "source": [
    "the_list = [1, 2, 2, 3, 4, 4, 5]\n",
    "\n",
    "print(set(the_list))"
   ]
  },
  {
   "cell_type": "markdown",
   "metadata": {
    "collapsed": false
   },
   "source": [
    "Zad 2. Mając tablicę uporządkowanych wartości, stworzyć zbiór zawierający brakujące wartości"
   ]
  },
  {
   "cell_type": "code",
   "execution_count": 16,
   "metadata": {
    "collapsed": false
   },
   "outputs": [
    {
     "name": "stdout",
     "output_type": "stream",
     "text": [
      "{2, 5}\n"
     ]
    }
   ],
   "source": [
    "nums = {1, 3, 4, 6}  # brakujące: {2, 5}\n",
    "proper_set = {i for i in range(1, 7)}\n",
    "print(proper_set - nums)\n",
    "\n",
    "# Nie dziala\n",
    "# nums = [1, 3, 4, 6]  # brakujące: {2, 5}\n",
    "# proper_set = {i for i in range(1, 7)}\n",
    "# print(proper_set - set(nums))"
   ]
  },
  {
   "cell_type": "markdown",
   "metadata": {
    "collapsed": false
   },
   "source": [
    "Zad 3.\n",
    "Stworzyć zbiór krotek zawierających pary liczb z listy `numbers`, które sumują się do wartości `target_sum`"
   ]
  },
  {
   "cell_type": "code",
   "execution_count": 29,
   "metadata": {
    "collapsed": false
   },
   "outputs": [
    {
     "name": "stdout",
     "output_type": "stream",
     "text": [
      "(2, 8)\n",
      "(3, 7)\n",
      "(2, 3, 5)\n"
     ]
    }
   ],
   "source": [
    "import itertools\n",
    "\n",
    "numbers = [2, 4, 3, 5, 7, 8, 9]\n",
    "target_sum = 10\n",
    "\n",
    "for r in range(1, len(numbers) + 1):\n",
    "    combinations = itertools.combinations(numbers, r)\n",
    "    for combination in combinations:\n",
    "        if sum(combination) == target_sum:\n",
    "            print(combination)\n"
   ]
  },
  {
   "cell_type": "markdown",
   "metadata": {
    "collapsed": false
   },
   "source": [
    "Zad 4.\n",
    "Stworzyć słownik, gdzie kluczami są słowa, a wartościami są zbiory zawierające wszystkie inne słowa będące anagramami klucza.\n",
    "Wskazówka: użyć funkcji `sorted()` w procesie ustalania, czy słowa są anagramami"
   ]
  },
  {
   "cell_type": "code",
   "execution_count": 31,
   "metadata": {
    "collapsed": false
   },
   "outputs": [
    {
     "name": "stdout",
     "output_type": "stream",
     "text": [
      "{'listen': {'inlets', 'silent', 'enlist'}, 'inlets': {'listen', 'silent', 'enlist'}, 'silent': {'listen', 'inlets', 'enlist'}, 'enlist': {'listen', 'inlets', 'silent'}, 'hello': set(), 'below': {'elbow'}, 'elbow': {'below'}}\n"
     ]
    }
   ],
   "source": [
    "words = [\"listen\", \"silent\", \"enlist\", \"inlets\", \"hello\", \"below\", \"elbow\"]\n",
    "\n",
    "anagrams_dict = dict()\n",
    "\n",
    "for i in words:\n",
    "    sorted_word = ''.join(sorted(i))\n",
    "\n",
    "    if sorted_word in anagrams_dict:\n",
    "        # Dodaj jesli posortowane slowo jest juz w slowniku\n",
    "        anagrams_dict[sorted_word].add(i)\n",
    "    else:\n",
    "        # Nowy zbior slow\n",
    "        anagrams_dict[sorted_word] = {i}\n",
    "    \n",
    "final_anagrams_dict = dict()\n",
    "\n",
    "for i in anagrams_dict.values():\n",
    "    for word in i:\n",
    "        final_anagrams_dict[word] = i - {word}\n",
    "\n",
    "print(final_anagrams_dict)\n"
   ]
  },
  {
   "cell_type": "markdown",
   "metadata": {
    "collapsed": false
   },
   "source": []
  }
 ],
 "metadata": {
  "kernelspec": {
   "display_name": "Python 3",
   "language": "python",
   "name": "python3"
  },
  "language_info": {
   "codemirror_mode": {
    "name": "ipython",
    "version": 3
   },
   "file_extension": ".py",
   "mimetype": "text/x-python",
   "name": "python",
   "nbconvert_exporter": "python",
   "pygments_lexer": "ipython3",
   "version": "3.13.0"
  }
 },
 "nbformat": 4,
 "nbformat_minor": 0
}
