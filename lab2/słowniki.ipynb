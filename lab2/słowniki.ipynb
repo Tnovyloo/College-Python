{
 "cells": [
  {
   "cell_type": "markdown",
   "metadata": {
    "collapsed": false
   },
   "source": [
    "# Słowniki\n",
    "Słownik (dictionary) to kolekcja par klucz-wartość. Klucze muszą być unikalne, a wartości mogą być dowolnego typu."
   ]
  },
  {
   "cell_type": "code",
   "execution_count": 1,
   "metadata": {
    "collapsed": true
   },
   "outputs": [
    {
     "name": "stdout",
     "output_type": "stream",
     "text": [
      "Imię: John\n",
      "Wiek: 25\n"
     ]
    }
   ],
   "source": [
    "# Przykład słownika\n",
    "the_dict = {\n",
    "    \"name\": \"John\",\n",
    "    \"age\": 25,\n",
    "    \"city\": \"New York\"\n",
    "}\n",
    "\n",
    "# Dostęp do wartości przez klucz\n",
    "print(f\"Imię: {the_dict['name']}\")\n",
    "print(f\"Wiek: {the_dict['age']}\")\n"
   ]
  },
  {
   "cell_type": "code",
   "execution_count": 2,
   "metadata": {
    "collapsed": false
   },
   "outputs": [
    {
     "name": "stdout",
     "output_type": "stream",
     "text": [
      "{'name': 'John', 'age': 26, 'city': 'New York'}\n",
      "{'name': 'John', 'age': 26, 'city': 'New York', 'job': 'Developer'}\n"
     ]
    }
   ],
   "source": [
    "# Modyfikowanie wartości\n",
    "the_dict['age'] = 26\n",
    "print(the_dict)\n",
    "\n",
    "# Dodawanie nowej pary klucz-wartość\n",
    "the_dict['job'] = 'Developer'\n",
    "print(the_dict)"
   ]
  },
  {
   "cell_type": "code",
   "execution_count": 4,
   "metadata": {
    "collapsed": false
   },
   "outputs": [
    {
     "name": "stdout",
     "output_type": "stream",
     "text": [
      "Miasto: New York\n"
     ]
    }
   ],
   "source": [
    "# Sprawdzanie, czy klucz istnieje w słowniku\n",
    "if 'city' in the_dict:\n",
    "    print(f\"Miasto: {the_dict['city']}\")\n",
    "else:\n",
    "    print(\"Miasto nie jest zdefiniowane\")"
   ]
  },
  {
   "cell_type": "code",
   "execution_count": 6,
   "metadata": {
    "collapsed": false
   },
   "outputs": [
    {
     "name": "stdout",
     "output_type": "stream",
     "text": [
      "Klucz: name, Wartość: John\n",
      "Klucz: age, Wartość: 26\n",
      "Klucz: city, Wartość: New York\n",
      "Klucz: job, Wartość: Developer\n",
      "\n",
      "Wartość: John\n",
      "Wartość: 26\n",
      "Wartość: New York\n",
      "Wartość: Developer\n",
      "\n",
      "Klucz: name, Wartość: John\n",
      "Klucz: age, Wartość: 26\n",
      "Klucz: city, Wartość: New York\n",
      "Klucz: job, Wartość: Developer\n",
      "\n"
     ]
    }
   ],
   "source": [
    "# Iterowanie po kluczach, wartościach i parach klucz-wartość\n",
    "for key in the_dict:\n",
    "    print(f\"Klucz: {key}, Wartość: {the_dict[key]}\")\n",
    "print()\n",
    "\n",
    "for value in the_dict.values():\n",
    "    print(f\"Wartość: {value}\")\n",
    "print()\n",
    "\n",
    "for key, value in the_dict.items():\n",
    "    print(f\"Klucz: {key}, Wartość: {value}\")\n",
    "print()"
   ]
  },
  {
   "cell_type": "markdown",
   "metadata": {
    "collapsed": false
   },
   "source": [
    "## Dictionary Comprehension\n",
    "Zwięzła metoda tworzenia słowników. Pozwala w jednym wyrażeniu wygenerować nowy słownik na podstawie istniejącej sekwencji\n",
    "`{key_expr: value_expr for item in iterable}`"
   ]
  },
  {
   "cell_type": "code",
   "execution_count": 8,
   "metadata": {
    "collapsed": false
   },
   "outputs": [
    {
     "name": "stdout",
     "output_type": "stream",
     "text": [
      "{1: 'one', 2: 'two', 3: 'three', 4: 'four', 5: 'five'}\n",
      "{1: 1, 2: 4, 3: 9, 4: 16, 5: 25}\n"
     ]
    }
   ],
   "source": [
    "numbers = [1, 2, 3, 4, 5]\n",
    "names = [\"one\", \"two\", \"three\", \"four\", \"five\"]\n",
    "\n",
    "number_names_dict = {k: v for k, v in zip(numbers, names)}\n",
    "print(number_names_dict)\n",
    "\n",
    "number_squares = {k: k**2 for k in numbers}\n",
    "print(number_squares)"
   ]
  },
  {
   "cell_type": "markdown",
   "metadata": {
    "collapsed": false
   },
   "source": [
    "# Zadania"
   ]
  },
  {
   "cell_type": "markdown",
   "metadata": {
    "collapsed": false
   },
   "source": [
    "Zad. 1\n",
    "Połącz podane słowniki w jeden:"
   ]
  },
  {
   "cell_type": "code",
   "execution_count": 7,
   "metadata": {
    "collapsed": false
   },
   "outputs": [
    {
     "name": "stdout",
     "output_type": "stream",
     "text": [
      "{'b': 2, 'c': 4, 'a': 1}\n"
     ]
    }
   ],
   "source": [
    "dict_1 = {'a': 1, 'b': 2}\n",
    "dict_2 = {'b': 3, 'c': 4}\n",
    "\n",
    "for k, v in dict_1.items():\n",
    "    dict_2[k] = v\n",
    "\n",
    "print(dict_2)"
   ]
  },
  {
   "cell_type": "markdown",
   "metadata": {
    "collapsed": false
   },
   "source": [
    "Zad. 2\n",
    "Napisz kod, który odwraca słownik, to znaczy tworzy nowy słownik, w którym wartości stają się kluczami, a klucze wartościami."
   ]
  },
  {
   "cell_type": "code",
   "execution_count": 11,
   "metadata": {
    "collapsed": false
   },
   "outputs": [
    {
     "name": "stdout",
     "output_type": "stream",
     "text": [
      "{'one': 'jeden', 'two': 'dwa', 'three': 'trzy'}\n"
     ]
    }
   ],
   "source": [
    "the_dict = {\"jeden\": \"one\", \"dwa\": \"two\", \"trzy\": \"three\"}\n",
    "\n",
    "new_dict = dict()\n",
    "\n",
    "for k, v in the_dict.items():\n",
    "    new_dict[v] = k\n",
    "\n",
    "print(new_dict)\n"
   ]
  },
  {
   "cell_type": "markdown",
   "metadata": {
    "collapsed": false
   },
   "source": [
    "Zad. 3\n",
    "Wykorzystując słownik, zlicz poszczególne znaki w treści tego zadania i wypisz wynik."
   ]
  },
  {
   "cell_type": "code",
   "execution_count": 18,
   "metadata": {
    "collapsed": false
   },
   "outputs": [
    {
     "name": "stdout",
     "output_type": "stream",
     "text": [
      "'W': 1\n",
      "'y': 4\n",
      "'k': 4\n",
      "'o': 4\n",
      "'r': 2\n",
      "'z': 8\n",
      "'s': 4\n",
      "'t': 3\n",
      "'u': 1\n",
      "'j': 1\n",
      "'ą': 1\n",
      "'c': 4\n",
      "' ': 11\n",
      "'ł': 1\n",
      "'w': 4\n",
      "'n': 5\n",
      "'i': 8\n",
      "',': 1\n",
      "'l': 2\n",
      "'p': 2\n",
      "'e': 4\n",
      "'g': 2\n",
      "'ó': 1\n",
      "'a': 4\n",
      "'ś': 1\n",
      "'d': 1\n",
      "'.': 1\n"
     ]
    }
   ],
   "source": [
    "# Takie nieoczywiste rozwiazanie, na maturze bardzo potrafila sie przydawac ta klasa :)\n",
    "from collections import Counter\n",
    "\n",
    "text = \"Wykorzystując słownik, zlicz poszczególne znaki w treści tego zadania i wypisz wynik.\"\n",
    "c = Counter(text)\n",
    "\n",
    "for char, count in c.items():\n",
    "    print(f\"'{char}': {count}\")\n"
   ]
  },
  {
   "cell_type": "code",
   "execution_count": null,
   "metadata": {},
   "outputs": [],
   "source": []
  },
  {
   "cell_type": "markdown",
   "metadata": {
    "collapsed": false
   },
   "source": [
    "Zad. 4\n",
    "Zlicz wystąpienia różnych elementów w poniższej liście\n",
    "Podpowiedź: Niech kluczem w słowniku będzie krotka w postaci (_wartość_, _typ_wartości_). Dzięki temu odróżnimy True od 1 i False od 0."
   ]
  },
  {
   "cell_type": "code",
   "execution_count": 24,
   "metadata": {
    "collapsed": false
   },
   "outputs": [
    {
     "name": "stdout",
     "output_type": "stream",
     "text": [
      "(1, <class 'int'>): 1\n",
      "('2', <class 'str'>): 1\n",
      "(None, <class 'NoneType'>): 1\n",
      "(0, <class 'int'>): 1\n",
      "(False, <class 'bool'>): 2\n",
      "(True, <class 'bool'>): 1\n",
      "(4, <class 'int'>): 2\n",
      "('3', <class 'str'>): 1\n",
      "(3, <class 'int'>): 1\n"
     ]
    }
   ],
   "source": [
    "from collections import Counter\n",
    "\n",
    "# print(0 == False, 1 == True)    # 0 i 1 są tym samym co False i True, jedynie różnią się typem\n",
    "new_list = [1, \"2\", None, 0, False, True, 4, \"3\", 4, 3, False]\n",
    "\n",
    "# c = Counter(new_list)\n",
    "\n",
    "# for char, count in c.items():\n",
    "#     print(f\"{char} : {count}\")\n",
    "\n",
    "my_dict = dict()\n",
    "for i in new_list:\n",
    "    # Utwórz krotkę jako klucz\n",
    "    key = (i, type(i))\n",
    "    \n",
    "    # Sprawdź, czy klucz już istnieje w słowniku\n",
    "    if key in my_dict:\n",
    "        my_dict[key] += 1 \n",
    "    else:\n",
    "        my_dict[key] = 1  \n",
    "\n",
    "for k, v in my_dict.items():\n",
    "    print(f\"{k}: {v}\")"
   ]
  }
 ],
 "metadata": {
  "kernelspec": {
   "display_name": "Python 3",
   "language": "python",
   "name": "python3"
  },
  "language_info": {
   "codemirror_mode": {
    "name": "ipython",
    "version": 3
   },
   "file_extension": ".py",
   "mimetype": "text/x-python",
   "name": "python",
   "nbconvert_exporter": "python",
   "pygments_lexer": "ipython3",
   "version": "3.13.0"
  }
 },
 "nbformat": 4,
 "nbformat_minor": 0
}
