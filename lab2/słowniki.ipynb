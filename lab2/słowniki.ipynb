{
 "cells": [
  {
   "cell_type": "markdown",
   "source": [
    "# Słowniki\n",
    "Słownik (dictionary) to kolekcja par klucz-wartość. Klucze muszą być unikalne, a wartości mogą być dowolnego typu."
   ],
   "metadata": {
    "collapsed": false
   }
  },
  {
   "cell_type": "code",
   "execution_count": 1,
   "metadata": {
    "collapsed": true
   },
   "outputs": [
    {
     "name": "stdout",
     "output_type": "stream",
     "text": [
      "Imię: John\n",
      "Wiek: 25\n"
     ]
    }
   ],
   "source": [
    "# Przykład słownika\n",
    "the_dict = {\n",
    "    \"name\": \"John\",\n",
    "    \"age\": 25,\n",
    "    \"city\": \"New York\"\n",
    "}\n",
    "\n",
    "# Dostęp do wartości przez klucz\n",
    "print(f\"Imię: {the_dict['name']}\")\n",
    "print(f\"Wiek: {the_dict['age']}\")\n"
   ]
  },
  {
   "cell_type": "code",
   "execution_count": 2,
   "outputs": [
    {
     "name": "stdout",
     "output_type": "stream",
     "text": [
      "{'name': 'John', 'age': 26, 'city': 'New York'}\n",
      "{'name': 'John', 'age': 26, 'city': 'New York', 'job': 'Developer'}\n"
     ]
    }
   ],
   "source": [
    "# Modyfikowanie wartości\n",
    "the_dict['age'] = 26\n",
    "print(the_dict)\n",
    "\n",
    "# Dodawanie nowej pary klucz-wartość\n",
    "the_dict['job'] = 'Developer'\n",
    "print(the_dict)"
   ],
   "metadata": {
    "collapsed": false
   }
  },
  {
   "cell_type": "code",
   "execution_count": 4,
   "outputs": [
    {
     "name": "stdout",
     "output_type": "stream",
     "text": [
      "Miasto: New York\n"
     ]
    }
   ],
   "source": [
    "# Sprawdzanie, czy klucz istnieje w słowniku\n",
    "if 'city' in the_dict:\n",
    "    print(f\"Miasto: {the_dict['city']}\")\n",
    "else:\n",
    "    print(\"Miasto nie jest zdefiniowane\")"
   ],
   "metadata": {
    "collapsed": false
   }
  },
  {
   "cell_type": "code",
   "execution_count": 6,
   "outputs": [
    {
     "name": "stdout",
     "output_type": "stream",
     "text": [
      "Klucz: name, Wartość: John\n",
      "Klucz: age, Wartość: 26\n",
      "Klucz: city, Wartość: New York\n",
      "Klucz: job, Wartość: Developer\n",
      "\n",
      "Wartość: John\n",
      "Wartość: 26\n",
      "Wartość: New York\n",
      "Wartość: Developer\n",
      "\n",
      "Klucz: name, Wartość: John\n",
      "Klucz: age, Wartość: 26\n",
      "Klucz: city, Wartość: New York\n",
      "Klucz: job, Wartość: Developer\n",
      "\n"
     ]
    }
   ],
   "source": [
    "# Iterowanie po kluczach, wartościach i parach klucz-wartość\n",
    "for key in the_dict:\n",
    "    print(f\"Klucz: {key}, Wartość: {the_dict[key]}\")\n",
    "print()\n",
    "\n",
    "for value in the_dict.values():\n",
    "    print(f\"Wartość: {value}\")\n",
    "print()\n",
    "\n",
    "for key, value in the_dict.items():\n",
    "    print(f\"Klucz: {key}, Wartość: {value}\")\n",
    "print()"
   ],
   "metadata": {
    "collapsed": false
   }
  },
  {
   "cell_type": "markdown",
   "source": [
    "## Dictionary Comprehension\n",
    "Zwięzła metoda tworzenia słowników. Pozwala w jednym wyrażeniu wygenerować nowy słownik na podstawie istniejącej sekwencji\n",
    "`{key_expr: value_expr for item in iterable}`"
   ],
   "metadata": {
    "collapsed": false
   }
  },
  {
   "cell_type": "code",
   "execution_count": 8,
   "outputs": [
    {
     "name": "stdout",
     "output_type": "stream",
     "text": [
      "{1: 'one', 2: 'two', 3: 'three', 4: 'four', 5: 'five'}\n",
      "{1: 1, 2: 4, 3: 9, 4: 16, 5: 25}\n"
     ]
    }
   ],
   "source": [
    "numbers = [1, 2, 3, 4, 5]\n",
    "names = [\"one\", \"two\", \"three\", \"four\", \"five\"]\n",
    "\n",
    "number_names_dict = {k: v for k, v in zip(numbers, names)}\n",
    "print(number_names_dict)\n",
    "\n",
    "number_squares = {k: k**2 for k in numbers}\n",
    "print(number_squares)"
   ],
   "metadata": {
    "collapsed": false
   }
  },
  {
   "cell_type": "markdown",
   "source": [
    "# Zadania"
   ],
   "metadata": {
    "collapsed": false
   }
  },
  {
   "cell_type": "markdown",
   "source": [
    "Zad. 1\n",
    "Połącz podane słowniki w jeden:"
   ],
   "metadata": {
    "collapsed": false
   }
  },
  {
   "cell_type": "code",
   "execution_count": null,
   "outputs": [],
   "source": [
    "dict_1 = {'a': 1, 'b': 2}\n",
    "dict_2 = {'b': 3, 'c': 4}"
   ],
   "metadata": {
    "collapsed": false
   }
  },
  {
   "cell_type": "markdown",
   "source": [
    "Zad. 2\n",
    "Napisz kod, który odwraca słownik, to znaczy tworzy nowy słownik, w którym wartości stają się kluczami, a klucze wartościami."
   ],
   "metadata": {
    "collapsed": false
   }
  },
  {
   "cell_type": "code",
   "execution_count": null,
   "outputs": [],
   "source": [
    "the_dict = {\"jeden\": \"one\", \"dwa\": \"two\", \"trzy\": \"three\"}"
   ],
   "metadata": {
    "collapsed": false
   }
  },
  {
   "cell_type": "markdown",
   "source": [
    "Zad. 3\n",
    "Wykorzystując słownik, zlicz poszczególne znaki w treści tego zadania i wypisz wynik."
   ],
   "metadata": {
    "collapsed": false
   }
  },
  {
   "cell_type": "code",
   "execution_count": null,
   "outputs": [],
   "source": [
    "text = \"Wykorzystując słownik, zlicz poszczególne znaki w treści tego zadania i wypisz wynik.\""
   ],
   "metadata": {
    "collapsed": false
   }
  },
  {
   "cell_type": "markdown",
   "source": [
    "Zad. 4\n",
    "Zlicz wystąpienia różnych elementów w poniższej liście\n",
    "Podpowiedź: Niech kluczem w słowniku będzie krotka w postaci (_wartość_, _typ_wartości_). Dzięki temu odróżnimy True od 1 i False od 0."
   ],
   "metadata": {
    "collapsed": false
   }
  },
  {
   "cell_type": "code",
   "execution_count": 3,
   "outputs": [
    {
     "data": {
      "text/plain": "[1, '2', None, 0, False, True, 4, '3', 4, 3, False]"
     },
     "execution_count": 3,
     "metadata": {},
     "output_type": "execute_result"
    }
   ],
   "source": [
    "# print(0 == False, 1 == True)    # 0 i 1 są tym samym co False i True, jedynie różnią się typem\n",
    "[1, \"2\", None, 0, False, True, 4, \"3\", 4, 3, False]"
   ],
   "metadata": {
    "collapsed": false
   }
  }
 ],
 "metadata": {
  "kernelspec": {
   "display_name": "Python 3",
   "language": "python",
   "name": "python3"
  },
  "language_info": {
   "codemirror_mode": {
    "name": "ipython",
    "version": 2
   },
   "file_extension": ".py",
   "mimetype": "text/x-python",
   "name": "python",
   "nbconvert_exporter": "python",
   "pygments_lexer": "ipython2",
   "version": "2.7.6"
  }
 },
 "nbformat": 4,
 "nbformat_minor": 0
}
