{
 "cells": [
  {
   "cell_type": "markdown",
   "metadata": {
    "collapsed": false,
    "jupyter": {
     "outputs_hidden": false
    }
   },
   "source": [
    "# Instrukcje warunkowe"
   ]
  },
  {
   "cell_type": "code",
   "execution_count": 1,
   "metadata": {
    "collapsed": false,
    "jupyter": {
     "outputs_hidden": false
    }
   },
   "outputs": [
    {
     "name": "stdout",
     "output_type": "stream",
     "text": [
      "Podana liczba jest ujemna\n"
     ]
    }
   ],
   "source": [
    "import random\n",
    "\n",
    "a = input(\"Podaj liczbę\")   # Funkcja input zwraca łańcuch znaków\n",
    "a = float(a)\n",
    "\n",
    "if a > 0:\n",
    "    print(\"Podana liczba jest dodatnia\")\n",
    "elif a < 0:\n",
    "    print(\"Podana liczba jest ujemna\")\n",
    "else:\n",
    "    print(\"Podano zero\")"
   ]
  },
  {
   "cell_type": "markdown",
   "metadata": {
    "collapsed": false,
    "jupyter": {
     "outputs_hidden": false
    }
   },
   "source": [
    "## Pętla `For`"
   ]
  },
  {
   "cell_type": "code",
   "execution_count": 1,
   "metadata": {
    "collapsed": false,
    "jupyter": {
     "outputs_hidden": false
    }
   },
   "outputs": [
    {
     "name": "stdout",
     "output_type": "stream",
     "text": [
      "0 1 2 3 4 5 6 7 8 9 \n",
      "10 11 12 13 14 15 16 17 18 19 \n",
      "2 4 6 8 10 12 14 \n",
      "20 17 14 11 8 \n",
      "1 2 3 4 5 6 \n",
      "Nie wykonano żadnej iteracji\n"
     ]
    }
   ],
   "source": [
    "# Użycie pętli z range\n",
    "\n",
    "# range(n) generuje wartości od 0 do n-1\n",
    "for i in range(10):\n",
    "    print(i, end=\" \")\n",
    "print()\n",
    "\n",
    "# range(n, k) generuje wartości od n do k-1\n",
    "for i in range(10, 20):\n",
    "    print(i, end=\" \")\n",
    "print()\n",
    "\n",
    "# range(n, k, m) generuje wartości od n do k-1, z krokiem m\n",
    "for i in range(2, 16, 2):\n",
    "    print(i, end=\" \")\n",
    "print()\n",
    "\n",
    "# Wartość kroku może być ujemna\n",
    "for i in range(20, 5, -3):\n",
    "    print(i, end=\" \")\n",
    "print()\n",
    "\n",
    "# Można iterować po kolekcjach\n",
    "numbers = [1, 2, 3, 4, 5, 6]\n",
    "for elem in numbers:\n",
    "    print(elem, end=\" \")\n",
    "print()\n",
    "\n",
    "\"\"\"\n",
    "Ciekawą, choć rzadko wykorzystywaną konstrukcją jest for..else.\n",
    "Blok else zadziała wtedy, gdy nie wykona się żadna iteracja pętli.\n",
    "Kod w instrukcji else nie wykona się, jeśli wywołamy 'break' w pętli\n",
    "\"\"\"\n",
    "array = []\n",
    "\n",
    "for elem in array:\n",
    "    print(elem)\n",
    "else:\n",
    "    print(\"Nie wykonano żadnej iteracji\")"
   ]
  },
  {
   "cell_type": "markdown",
   "metadata": {
    "collapsed": false
   },
   "source": [
    "## Pętla while i instrukcja break\n",
    "Instrukcja 'break' skutkuje całkowitym przerwaniem pętli."
   ]
  },
  {
   "cell_type": "code",
   "execution_count": 4,
   "metadata": {},
   "outputs": [
    {
     "name": "stdout",
     "output_type": "stream",
     "text": [
      "Źle\n",
      "Źle\n",
      "Dobrze\n"
     ]
    }
   ],
   "source": [
    "while True:\n",
    "    x = input(\"Podaj wynik działania 2+2:\")\n",
    "    x = float(x)\n",
    "\n",
    "    if x == 4:\n",
    "        print(\"Dobrze\")\n",
    "        break\n",
    "\n",
    "    print(\"Źle\")"
   ]
  },
  {
   "cell_type": "markdown",
   "metadata": {
    "collapsed": false
   },
   "source": [
    "## Pętla while i instrukcja continue\n",
    "Wywołanie 'continue' powoduje przerwanie wykonania bieżącej iteracji pętli i kontynuację od następnej iteracji."
   ]
  },
  {
   "cell_type": "code",
   "execution_count": 3,
   "metadata": {
    "collapsed": false
   },
   "outputs": [
    {
     "name": "stdout",
     "output_type": "stream",
     "text": [
      "Źle\n",
      "Źle\n",
      "Dobrze\n"
     ]
    }
   ],
   "source": [
    "while True:\n",
    "    x = input(\"Podaj wynik działania 2+2:\")\n",
    "    x = float(x)\n",
    "\n",
    "    if x != 4:\n",
    "        print(\"Źle\")\n",
    "        continue\n",
    "\n",
    "    print(\"Dobrze\")\n",
    "    break"
   ]
  },
  {
   "cell_type": "markdown",
   "metadata": {
    "collapsed": false,
    "jupyter": {
     "outputs_hidden": false
    }
   },
   "source": [
    "## Zadania"
   ]
  },
  {
   "cell_type": "markdown",
   "metadata": {
    "collapsed": false,
    "jupyter": {
     "outputs_hidden": false
    }
   },
   "source": [
    "Zad 1\n",
    "Napisać program, który oblicza sumę liczb od 1 do 100, które są podzielne przez 3.\n",
    "Użyć pętli for oraz instrukcji warunkowych wewnątrz pętli"
   ]
  },
  {
   "cell_type": "code",
   "execution_count": 2,
   "metadata": {
    "collapsed": true,
    "jupyter": {
     "outputs_hidden": true
    }
   },
   "outputs": [
    {
     "name": "stdout",
     "output_type": "stream",
     "text": [
      "1683\n"
     ]
    }
   ],
   "source": [
    "suma: int = 0\n",
    "\n",
    "for i in range(1, 100):\n",
    "    if i % 3 == 0:\n",
    "        suma += i\n",
    "\n",
    "print(suma)"
   ]
  },
  {
   "cell_type": "markdown",
   "metadata": {
    "collapsed": false,
    "jupyter": {
     "outputs_hidden": false
    }
   },
   "source": [
    "Zad 2\n",
    "Napisać program, który oblicza sumę liczb od -50 do 100, które są podzielne przez 3 lub 5, ale nie są podzielne przez 7.\n",
    "Użyć pętli for oraz instrukcji warunkowych wewnątrz pętli"
   ]
  },
  {
   "cell_type": "code",
   "execution_count": 9,
   "metadata": {
    "collapsed": false,
    "jupyter": {
     "outputs_hidden": false
    }
   },
   "outputs": [
    {
     "name": "stdout",
     "output_type": "stream",
     "text": [
      "60\n"
     ]
    }
   ],
   "source": [
    "suma: int = 0\n",
    "# Wynik 225\n",
    "for i in range(-50, 100):\n",
    "    if (i % 3 == 0 or i % 5 == 0) and i % 7 != 0:\n",
    "        suma += 1\n",
    "\n",
    "print(suma)"
   ]
  },
  {
   "cell_type": "markdown",
   "metadata": {
    "collapsed": false,
    "jupyter": {
     "outputs_hidden": false
    }
   },
   "source": [
    "Zad 3\n",
    "Napisać program, który sprawdza, czy dana liczba jest liczbą pierwszą. Użyć pętli i instrukcji warunkowej.\n",
    "Liczba pierwsza to liczba większa od 1, która dzieli się tylko przez 1 i samą siebie."
   ]
  },
  {
   "cell_type": "code",
   "execution_count": 26,
   "metadata": {
    "collapsed": false,
    "jupyter": {
     "outputs_hidden": false
    }
   },
   "outputs": [
    {
     "name": "stdout",
     "output_type": "stream",
     "text": [
      "[2, 3, 5, 7, 11, 13, 17, 19, 23, 29, 31, 37, 41, 43, 47, 53, 59, 61, 67, 71, 73, 79, 83, 89, 97]\n"
     ]
    }
   ],
   "source": [
    "import math\n",
    "\n",
    "def is_prime(n: int) -> int:\n",
    "    if n > 1:\n",
    "        # Używam funkcji sqrt i konwertujemy to na liczbę całkowitą (Problem z range i liczbą float która jest zwracana)\n",
    "        # robię to w przedziale (2, do pierwiastka z n)\n",
    "        for i in range(2, int(math.sqrt(n)) + 1):\n",
    "            if n % i == 0:\n",
    "                return 0  # Jeśli znajdziemy dzielnik, liczba nie jest pierwsza, to zwracamy 0\n",
    "        return n  # Jeśli nie ma dzielników, liczba jest pierwsza\n",
    "    else:\n",
    "        return 0  # Dla n <= 1 liczba nie jest pierwsza\n",
    "\n",
    "prime_numbers = [is_prime(i) for i in range(1, 100) if is_prime(i) != 0]\n",
    "print(prime_numbers)"
   ]
  },
  {
   "cell_type": "markdown",
   "metadata": {
    "collapsed": false,
    "jupyter": {
     "outputs_hidden": false
    }
   },
   "source": [
    "Zad 4:\n",
    "Użytkownik podaje dwie liczby: h oraz w. Skorzystać z instrukcji `input()`\n",
    "H określa wysokość prostokąta, w szerokość.\n",
    "\n",
    "Narysować prostokąt złożony z zer i z obwódką z gwiazdek, w sposób zaprezentowany w komentarzu niżej.\n",
    "\n",
    "Uwaga: instrukcja `print()` przyjmuje argument *end*, który pozwala na zmianę znaku dodawanego na koniec wyjścia.\n",
    "Domyślnie jest to znak nowej linii `\\n`, co powoduje wyświetlanie kolejnego wyjścia w następnej linii.\n",
    "Końcowy znak można zmienić lub go usunąć, ustawiając na wartość `\"\"`\n"
   ]
  },
  {
   "cell_type": "code",
   "execution_count": 35,
   "metadata": {
    "collapsed": false,
    "jupyter": {
     "outputs_hidden": false
    }
   },
   "outputs": [
    {
     "name": "stdout",
     "output_type": "stream",
     "text": [
      "*****\n",
      "*000*\n",
      "*000*\n",
      "*000*\n",
      "*000*\n",
      "*000*\n",
      "*000*\n",
      "*000*\n",
      "*000*\n",
      "*****\n"
     ]
    }
   ],
   "source": [
    "\"\"\"\n",
    "wejście:\n",
    "h = 4\n",
    "w = 5\n",
    "\n",
    "wyjście:\n",
    "*****\n",
    "*000*\n",
    "*000*\n",
    "*****\n",
    "\"\"\"\n",
    "\n",
    "def print_square(h: int, w: int) -> None:\n",
    "    \"\"\"Funkcja printująca kwadrat\"\"\"\n",
    "    edge_walls = ''\n",
    "    for i in range(1, w + 1):\n",
    "        edge_walls += '*'\n",
    "\n",
    "    inside_walls = ''\n",
    "    for i in range(1, w + 1):\n",
    "        if i == 1 or i == w:\n",
    "            inside_walls += '*'\n",
    "        else:\n",
    "            inside_walls += '0'\n",
    "    \n",
    "    for i in range(1, h + 1):\n",
    "        if i == 1 or i == h:\n",
    "            print(edge_walls)\n",
    "        else:\n",
    "            print(inside_walls)\n",
    "\n",
    "\n",
    "h = input(\"Podaj Wysokosc: \")\n",
    "w = input(\"Podaj szerokosc: \")\n",
    "print_square(int(h), int(w))    \n",
    "\n",
    "\n"
   ]
  },
  {
   "cell_type": "markdown",
   "metadata": {},
   "source": [
    "Zad 5:\n",
    "Rozważmy prostą grę polegającą na zgadywaniu liczby od 1 do 100. Pierwszy gracz wymyśla liczbę, drugi próbuje ją zgadnąć. Drugi gracz zgaduje wartość, jeśli mu się uda, pierwszy gracz powiadamia go o tym, w przeciwnym wypadku oświadcza, czy podana liczba jest za mała, czy za duża. Gra kończy się, gdy drugi gracz zdanie liczbę.\n",
    "\n",
    "Należy napisać kod symulujący taką grę. W tym celu należy wylosować liczbę do zgadnięcia, a następnie napisać kod symulujący proces zgadywania drugiego gracza."
   ]
  },
  {
   "cell_type": "code",
   "execution_count": 4,
   "metadata": {},
   "outputs": [
    {
     "name": "stdout",
     "output_type": "stream",
     "text": [
      "5 to za mało!\n",
      "1 to za mało!\n",
      "100 to za dużo!\n",
      "Sukces! Liczba to 16!\n"
     ]
    }
   ],
   "source": [
    "\"\"\"\n",
    "Przykładowe wyjście\n",
    "\n",
    "60 to za dużo\n",
    "46 to za dużo\n",
    "10 to za mało\n",
    "34 to za dużo\n",
    "22 to za dużo\n",
    "15 to za dużo\n",
    "12 to za mało\n",
    "Sukces! Liczba to 13\n",
    "\"\"\"\n",
    "\n",
    "def start_game(n: int) -> None:\n",
    "    while True:\n",
    "        user_input = int(input(\"\"))\n",
    "        if user_input < n:\n",
    "            print(f\"{user_input} to za mało!\")\n",
    "        if user_input > n:\n",
    "            print(f\"{user_input} to za dużo!\")\n",
    "        if user_input == n:\n",
    "            print(f\"Sukces! Liczba to {user_input}!\")\n",
    "            break\n",
    "\n",
    "start_game(16)\n"
   ]
  }
 ],
 "metadata": {
  "kernelspec": {
   "display_name": "Python 3",
   "language": "python",
   "name": "python3"
  },
  "language_info": {
   "codemirror_mode": {
    "name": "ipython",
    "version": 3
   },
   "file_extension": ".py",
   "mimetype": "text/x-python",
   "name": "python",
   "nbconvert_exporter": "python",
   "pygments_lexer": "ipython3",
   "version": "3.13.0"
  }
 },
 "nbformat": 4,
 "nbformat_minor": 4
}
